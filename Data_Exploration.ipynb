{
  "nbformat": 4,
  "nbformat_minor": 0,
  "metadata": {
    "colab": {
      "name": "Data-Exploration.ipynb",
      "provenance": [],
      "mount_file_id": "1hw-Q4vKHcsseGZbGIK0AOTjxHqee6Zk-",
      "authorship_tag": "ABX9TyML3xSgJs68A1LAJHsgUS8P",
      "include_colab_link": true
    },
    "kernelspec": {
      "name": "python3",
      "display_name": "Python 3"
    }
  },
  "cells": [
    {
      "cell_type": "markdown",
      "metadata": {
        "id": "view-in-github",
        "colab_type": "text"
      },
      "source": [
        "<a href=\"https://colab.research.google.com/github/MLMasters/DroughtDetection/blob/master/Data_Exploration.ipynb\" target=\"_parent\"><img src=\"https://colab.research.google.com/assets/colab-badge.svg\" alt=\"Open In Colab\"/></a>"
      ]
    },
    {
      "cell_type": "markdown",
      "metadata": {
        "id": "0dHjDCT1Sp06"
      },
      "source": [
        "# Drought Data Exploration\n",
        "First create symbolic link to our data folder on My Drive."
      ]
    },
    {
      "cell_type": "code",
      "metadata": {
        "id": "8YjIzBPoaRsw"
      },
      "source": [
        "!ln -s drive/My\\ Drive/data"
      ],
      "execution_count": 3,
      "outputs": []
    },
    {
      "cell_type": "markdown",
      "metadata": {
        "id": "mOgLEZOSS1HU"
      },
      "source": [
        "## Load and display data"
      ]
    },
    {
      "cell_type": "code",
      "metadata": {
        "id": "oQFt_7pXSYfq"
      },
      "source": [
        "import tensorflow as tf"
      ],
      "execution_count": 4,
      "outputs": []
    },
    {
      "cell_type": "code",
      "metadata": {
        "id": "rQOGuNu_S86O"
      },
      "source": [
        ""
      ],
      "execution_count": null,
      "outputs": []
    }
  ]
}